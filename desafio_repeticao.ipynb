{
  "nbformat": 4,
  "nbformat_minor": 0,
  "metadata": {
    "colab": {
      "provenance": [],
      "authorship_tag": "ABX9TyO10baaw4Jm3i2z288ro1SO",
      "include_colab_link": true
    },
    "kernelspec": {
      "name": "python3",
      "display_name": "Python 3"
    },
    "language_info": {
      "name": "python"
    }
  },
  "cells": [
    {
      "cell_type": "markdown",
      "metadata": {
        "id": "view-in-github",
        "colab_type": "text"
      },
      "source": [
        "<a href=\"https://colab.research.google.com/github/X3DTHING/desaficiorepeticao/blob/main/desafio_repeticao.ipynb\" target=\"_parent\"><img src=\"https://colab.research.google.com/assets/colab-badge.svg\" alt=\"Open In Colab\"/></a>"
      ]
    },
    {
      "cell_type": "code",
      "execution_count": null,
      "metadata": {
        "id": "Zn28ttaesD9H"
      },
      "outputs": [],
      "source": [
        "import random as rd\n",
        "\n",
        "computador = rd.randint(0, 10)\n",
        "chute = 0\n",
        "\n",
        "while True:\n",
        "    chute += 1\n",
        "    usuario = abs(int(input(\"Digite um numero de 0 a 10: \")))\n",
        "\n",
        "    if usuario > 10:\n",
        "        print(f\"Infelizmente o numero {usuario} é invalido. Tente novamente.\")\n",
        "    else:\n",
        "        if usuario == computador:\n",
        "            print(\"Parabéns!! Você é o vencedor!!!\")\n",
        "            break\n",
        "        else:\n",
        "            if usuario > computador:\n",
        "                print(\"Número chutado MAIOR do que o número pensado.\")\n",
        "            else:\n",
        "                print(\"Número chutado MENOR do que o número pensado.\")\n",
        "\n",
        "print(f\"Você precisou de {chute} tentativas para acertar o número pensado.\")\n",
        "\n"
      ]
    }
  ]
}